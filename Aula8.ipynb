{
  "nbformat": 4,
  "nbformat_minor": 0,
  "metadata": {
    "colab": {
      "provenance": []
    },
    "kernelspec": {
      "name": "python3",
      "display_name": "Python 3"
    },
    "language_info": {
      "name": "python"
    }
  },
  "cells": [
    {
      "cell_type": "code",
      "execution_count": null,
      "metadata": {
        "id": "eHPqR3oebsiT"
      },
      "outputs": [],
      "source": [
        "import matplotlib.pyplot as plt\n",
        "import numpy as np\n",
        "import pandas as pd"
      ]
    },
    {
      "cell_type": "code",
      "source": [
        "def converte_h_s(horas):\n",
        "  m = 60 #segundos em 1 minuto\n",
        "  h = m*60\n",
        "\n",
        "  segundos = h*horas\n",
        "  return segundos"
      ],
      "metadata": {
        "id": "ax4NOhTRhZ26"
      },
      "execution_count": null,
      "outputs": []
    },
    {
      "cell_type": "code",
      "source": [
        "converte_h_s(2)"
      ],
      "metadata": {
        "colab": {
          "base_uri": "https://localhost:8080/"
        },
        "id": "oIBvOxtxlmLp",
        "outputId": "f564ec18-c05a-472a-ee54-2e9d7be21b2f"
      },
      "execution_count": null,
      "outputs": [
        {
          "output_type": "execute_result",
          "data": {
            "text/plain": [
              "7200"
            ]
          },
          "metadata": {},
          "execution_count": 4
        }
      ]
    },
    {
      "cell_type": "code",
      "source": [
        "converte_h_s(10)"
      ],
      "metadata": {
        "colab": {
          "base_uri": "https://localhost:8080/"
        },
        "id": "8Y_NjaeImAG-",
        "outputId": "88166b5c-88f9-4339-94ab-bf033d4d0188"
      },
      "execution_count": null,
      "outputs": [
        {
          "output_type": "execute_result",
          "data": {
            "text/plain": [
              "36000"
            ]
          },
          "metadata": {},
          "execution_count": 5
        }
      ]
    },
    {
      "cell_type": "code",
      "source": [
        "c = converte_h_s(32)\n",
        "c"
      ],
      "metadata": {
        "colab": {
          "base_uri": "https://localhost:8080/"
        },
        "id": "-XpV1tLnmDG-",
        "outputId": "0f7758d8-bb33-4b77-8f69-7a2c1a7bfea5"
      },
      "execution_count": null,
      "outputs": [
        {
          "output_type": "execute_result",
          "data": {
            "text/plain": [
              "115200"
            ]
          },
          "metadata": {},
          "execution_count": 6
        }
      ]
    },
    {
      "cell_type": "code",
      "source": [
        "def volume_esfera(r):\n",
        "  v = 4/3*np.pi*r**3\n",
        "  return v"
      ],
      "metadata": {
        "id": "WwowK7KymIR-"
      },
      "execution_count": null,
      "outputs": []
    },
    {
      "cell_type": "code",
      "source": [
        "volume_esfera(5)"
      ],
      "metadata": {
        "colab": {
          "base_uri": "https://localhost:8080/"
        },
        "id": "jxPrjCj9nHUu",
        "outputId": "61b7b943-857a-498b-e60e-97f04debc1ef"
      },
      "execution_count": null,
      "outputs": [
        {
          "output_type": "execute_result",
          "data": {
            "text/plain": [
              "523.5987755982989"
            ]
          },
          "metadata": {},
          "execution_count": 12
        }
      ]
    },
    {
      "cell_type": "code",
      "source": [
        "def lei_dos_cossenos(a, b, x):\n",
        "  x = np.deg2rad(x)\n",
        "  c = np.sqrt(a**2 + b**2 - 2*a*b*np.cos(x))\n",
        "  return c"
      ],
      "metadata": {
        "id": "C6qg_2BwnYpl"
      },
      "execution_count": null,
      "outputs": []
    },
    {
      "cell_type": "code",
      "source": [
        "lei_dos_cossenos(a=1, b=2, x=30)"
      ],
      "metadata": {
        "colab": {
          "base_uri": "https://localhost:8080/"
        },
        "id": "Us9dejMxpVFJ",
        "outputId": "b0e56101-e746-434d-83ea-6da9eae9f080"
      },
      "execution_count": null,
      "outputs": [
        {
          "output_type": "execute_result",
          "data": {
            "text/plain": [
              "1.2393136749274758"
            ]
          },
          "metadata": {},
          "execution_count": 14
        }
      ]
    },
    {
      "cell_type": "code",
      "source": [
        "lei_dos_cossenos(a=3, b=5, x=60)"
      ],
      "metadata": {
        "colab": {
          "base_uri": "https://localhost:8080/"
        },
        "id": "qoB-Okd2pbO-",
        "outputId": "cc48a9b3-e47a-45ea-b610-0940ccb9b9ca"
      },
      "execution_count": null,
      "outputs": [
        {
          "output_type": "execute_result",
          "data": {
            "text/plain": [
              "4.358898943540673"
            ]
          },
          "metadata": {},
          "execution_count": 15
        }
      ]
    },
    {
      "cell_type": "code",
      "source": [
        "def imc(h, m):\n",
        "  imc = m/h**2\n",
        "  if imc < 17:\n",
        "    print('muito abaixo do peso')\n",
        "  elif 17< imc < 18.5:\n",
        "    print('abaixo do peso')\n",
        "  elif 18.5 <imc < 25:\n",
        "    print('peso normal')\n",
        "  elif 25 < imc < 30:\n",
        "    print('acima do peso')\n",
        "  elif 30 < imc < 35:\n",
        "    print('obesidade grau i')\n",
        "  elif 35 < imc < 40:\n",
        "    print('obesidade grau ii') \n",
        "  elif imc > 40:\n",
        "    print('obesidade grau iii')\n",
        "  return imc"
      ],
      "metadata": {
        "id": "1ncVkv3UpoG3"
      },
      "execution_count": null,
      "outputs": []
    },
    {
      "cell_type": "code",
      "source": [
        "imc(1.75, 60)"
      ],
      "metadata": {
        "colab": {
          "base_uri": "https://localhost:8080/"
        },
        "id": "iicy1o29raR4",
        "outputId": "540dcbe5-654e-4dba-e840-a77c14b04e2e"
      },
      "execution_count": null,
      "outputs": [
        {
          "output_type": "stream",
          "name": "stdout",
          "text": [
            "peso normal\n"
          ]
        },
        {
          "output_type": "execute_result",
          "data": {
            "text/plain": [
              "19.591836734693878"
            ]
          },
          "metadata": {},
          "execution_count": 23
        }
      ]
    },
    {
      "cell_type": "code",
      "source": [
        "imc(h=1.80, m=60)"
      ],
      "metadata": {
        "colab": {
          "base_uri": "https://localhost:8080/"
        },
        "id": "6qMB0A_lre_Y",
        "outputId": "90fd617d-7c5c-43e6-d4a3-9b36eb28fd6b"
      },
      "execution_count": null,
      "outputs": [
        {
          "output_type": "stream",
          "name": "stdout",
          "text": [
            "peso normal\n"
          ]
        },
        {
          "output_type": "execute_result",
          "data": {
            "text/plain": [
              "18.51851851851852"
            ]
          },
          "metadata": {},
          "execution_count": 24
        }
      ]
    },
    {
      "cell_type": "code",
      "source": [],
      "metadata": {
        "id": "Q4-sNrwcrmkQ"
      },
      "execution_count": null,
      "outputs": []
    }
  ]
}