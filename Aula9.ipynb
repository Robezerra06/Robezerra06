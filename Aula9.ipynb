{
  "nbformat": 4,
  "nbformat_minor": 0,
  "metadata": {
    "colab": {
      "provenance": []
    },
    "kernelspec": {
      "name": "python3",
      "display_name": "Python 3"
    },
    "language_info": {
      "name": "python"
    }
  },
  "cells": [
    {
      "cell_type": "code",
      "execution_count": 8,
      "metadata": {
        "colab": {
          "base_uri": "https://localhost:8080/",
          "height": 265
        },
        "id": "VtNZH9ZsePBC",
        "outputId": "08db1478-99c5-4e25-da0e-ff14aaca88d4"
      },
      "outputs": [
        {
          "output_type": "display_data",
          "data": {
            "text/plain": [
              "<Figure size 432x288 with 1 Axes>"
            ],
            "image/png": "[encoded data removed]"
          },
          "metadata": {
            "needs_background": "light"
          }
        }
      ],
      "source": [
        "import numpy as np\n",
        "import matplotlib.pyplot as plt\n",
        "\n",
        "x = np.linspace(-1, 10, 50)\n",
        "m = 28/11\n",
        "b = 3+m\n",
        "rng = np.random.default_rng()\n",
        "y = m*x+b+5*np.random.randn(len(x))\n",
        "plt.figure()\n",
        "plt.plot(x , y, marker='o', color='red', linestyle='')\n",
        "plt.show()"
      ]
    },
    {
      "cell_type": "code",
      "source": [
        "x"
      ],
      "metadata": {
        "colab": {
          "base_uri": "https://localhost:8080/"
        },
        "id": "o0uCpN_pnaPY",
        "outputId": "88dccf67-ef83-4ec3-f335-fa8302b8f470"
      },
      "execution_count": 2,
      "outputs": [
        {
          "output_type": "execute_result",
          "data": {
            "text/plain": [
              "array([-1.        , -0.7755102 , -0.55102041, -0.32653061, -0.10204082,\n",
              "        0.12244898,  0.34693878,  0.57142857,  0.79591837,  1.02040816,\n",
              "        1.24489796,  1.46938776,  1.69387755,  1.91836735,  2.14285714,\n",
              "        2.36734694,  2.59183673,  2.81632653,  3.04081633,  3.26530612,\n",
              "        3.48979592,  3.71428571,  3.93877551,  4.16326531,  4.3877551 ,\n",
              "        4.6122449 ,  4.83673469,  5.06122449,  5.28571429,  5.51020408,\n",
              "        5.73469388,  5.95918367,  6.18367347,  6.40816327,  6.63265306,\n",
              "        6.85714286,  7.08163265,  7.30612245,  7.53061224,  7.75510204,\n",
              "        7.97959184,  8.20408163,  8.42857143,  8.65306122,  8.87755102,\n",
              "        9.10204082,  9.32653061,  9.55102041,  9.7755102 , 10.        ])"
            ]
          },
          "metadata": {},
          "execution_count": 2
        }
      ]
    },
    {
      "cell_type": "code",
      "source": [
        "y"
      ],
      "metadata": {
        "colab": {
          "base_uri": "https://localhost:8080/"
        },
        "id": "qixIsZvHngIP",
        "outputId": "ee8be3fd-48f2-43fd-b4b4-9f405ecc30e7"
      },
      "execution_count": 3,
      "outputs": [
        {
          "output_type": "execute_result",
          "data": {
            "text/plain": [
              "array([ 3.        ,  3.57142857,  4.14285714,  4.71428571,  5.28571429,\n",
              "        5.85714286,  6.42857143,  7.        ,  7.57142857,  8.14285714,\n",
              "        8.71428571,  9.28571429,  9.85714286, 10.42857143, 11.        ,\n",
              "       11.57142857, 12.14285714, 12.71428571, 13.28571429, 13.85714286,\n",
              "       14.42857143, 15.        , 15.57142857, 16.14285714, 16.71428571,\n",
              "       17.28571429, 17.85714286, 18.42857143, 19.        , 19.57142857,\n",
              "       20.14285714, 20.71428571, 21.28571429, 21.85714286, 22.42857143,\n",
              "       23.        , 23.57142857, 24.14285714, 24.71428571, 25.28571429,\n",
              "       25.85714286, 26.42857143, 27.        , 27.57142857, 28.14285714,\n",
              "       28.71428571, 29.28571429, 29.85714286, 30.42857143, 31.        ])"
            ]
          },
          "metadata": {},
          "execution_count": 3
        }
      ]
    },
    {
      "cell_type": "code",
      "source": [
        "m = np.sum((x - np.mean(x)) * (y-np.mean(y))) / np.sum((x - np.mean(x))**2)\n",
        "m"
      ],
      "metadata": {
        "colab": {
          "base_uri": "https://localhost:8080/"
        },
        "id": "epqE2UQango_",
        "outputId": "c8a08d97-f11c-4bfa-af11-297cd7a6bee1"
      },
      "execution_count": 5,
      "outputs": [
        {
          "output_type": "execute_result",
          "data": {
            "text/plain": [
              "2.545454545454546"
            ]
          },
          "metadata": {},
          "execution_count": 5
        }
      ]
    },
    {
      "cell_type": "code",
      "source": [
        "b = np.mean(y) - m*np.mean(x)\n",
        "b"
      ],
      "metadata": {
        "colab": {
          "base_uri": "https://localhost:8080/"
        },
        "id": "RAC3nNHMn6On",
        "outputId": "434dbfa2-c144-4c22-c916-2b336033e2ce"
      },
      "execution_count": 9,
      "outputs": [
        {
          "output_type": "execute_result",
          "data": {
            "text/plain": [
              "5.893091583540846"
            ]
          },
          "metadata": {},
          "execution_count": 9
        }
      ]
    },
    {
      "cell_type": "code",
      "source": [
        "import pandas as pd\n",
        "info_postura = pd.read_csv('https://raw.githubusercontent.com/rnwatanabe/BasesComputacionais2021/main/dados/BDSinfo.csv', sep='\\t')\n",
        "info_postura"
      ],
      "metadata": {
        "colab": {
          "base_uri": "https://localhost:8080/",
          "height": 424
        },
        "id": "9-boleF0pJu2",
        "outputId": "c89bd431-4805-44c3-c0c7-a74eac862804"
      },
      "execution_count": 10,
      "outputs": [
        {
          "output_type": "execute_result",
          "data": {
            "text/plain": [
              "         Trial  Subject  Vision Surface        Age AgeGroup Gender  Height  \\\n",
              "0     BDS00001        1    Open    Firm  33.000000    Young      F   157.5   \n",
              "1     BDS00002        1    Open    Firm  33.000000    Young      F   157.5   \n",
              "2     BDS00003        1    Open    Firm  33.000000    Young      F   157.5   \n",
              "3     BDS00004        1  Closed    Firm  33.000000    Young      F   157.5   \n",
              "4     BDS00005        1  Closed    Firm  33.000000    Young      F   157.5   \n",
              "...        ...      ...     ...     ...        ...      ...    ...     ...   \n",
              "1925  BDS01952      163    Open    Firm  25.416667    Young      M   172.0   \n",
              "1926  BDS01953      163    Open    Firm  25.416667    Young      M   172.0   \n",
              "1927  BDS01954      163  Closed    Foam  25.416667    Young      M   172.0   \n",
              "1928  BDS01955      163  Closed    Foam  25.416667    Young      M   172.0   \n",
              "1929  BDS01956      163  Closed    Foam  25.416667    Young      M   172.0   \n",
              "\n",
              "      Weight        BMI  ...  Best_7 Best_8 Best_9  Best_10 Best_11 Best_12  \\\n",
              "0       54.2  21.849332  ...       2      2      2        2       2       2   \n",
              "1       54.2  21.849332  ...       2      2      2        2       2       2   \n",
              "2       54.2  21.849332  ...       2      2      2        2       2       2   \n",
              "3       54.2  21.849332  ...       2      2      2        2       2       2   \n",
              "4       54.2  21.849332  ...       2      2      2        2       2       2   \n",
              "...      ...        ...  ...     ...    ...    ...      ...     ...     ...   \n",
              "1925    74.6  25.216333  ...       2      2      2        2       2       2   \n",
              "1926    74.6  25.216333  ...       2      2      2        2       2       2   \n",
              "1927    74.6  25.216333  ...       2      2      2        2       2       2   \n",
              "1928    74.6  25.216333  ...       2      2      2        2       2       2   \n",
              "1929    74.6  25.216333  ...       2      2      2        2       2       2   \n",
              "\n",
              "     Best_13  Best_14 Best_T                     Date  \n",
              "0          2        1     25  2015-10-08 08:30:00.000  \n",
              "1          2        1     25  2015-10-08 08:30:00.000  \n",
              "2          2        1     25  2015-10-08 08:30:00.000  \n",
              "3          2        1     25  2015-10-08 08:30:00.000  \n",
              "4          2        1     25  2015-10-08 08:30:00.000  \n",
              "...      ...      ...    ...                      ...  \n",
              "1925       2        2     26  2016-03-11 10:49:57.538  \n",
              "1926       2        2     26  2016-03-11 10:49:57.538  \n",
              "1927       2        2     26  2016-03-11 10:49:57.538  \n",
              "1928       2        2     26  2016-03-11 10:49:57.538  \n",
              "1929       2        2     26  2016-03-11 10:49:57.538  \n",
              "\n",
              "[1930 rows x 64 columns]"
            ],
            "text/html": [
              "\n",
              "  <div id=\"df-3c2f710c-a673-47be-a7ce-6dc58ce40f98\">\n",
              "    <div class=\"colab-df-container\">\n",
              "      <div>\n",
              "<style scoped>\n",
              "    .dataframe tbody tr th:only-of-type {\n",
              "        vertical-align: middle;\n",
              "    }\n",
              "\n",
              "    .dataframe tbody tr th {\n",
              "        vertical-align: top;\n",
              "    }\n",
              "\n",
              "    .dataframe thead th {\n",
              "        text-align: right;\n",
              "    }\n",
              "</style>\n",
              "<table border=\"1\" class=\"dataframe\">\n",
              "  <thead>\n",
              "    <tr style=\"text-align: right;\">\n",
              "      <th></th>\n",
              "      <th>Trial</th>\n",
              "      <th>Subject</th>\n",
              "      <th>Vision</th>\n",
              "      <th>Surface</th>\n",
              "      <th>Age</th>\n",
              "      <th>AgeGroup</th>\n",
              "      <th>Gender</th>\n",
              "      <th>Height</th>\n",
              "      <th>Weight</th>\n",
              "      <th>BMI</th>\n",
              "      <th>...</th>\n",
              "      <th>Best_7</th>\n",
              "      <th>Best_8</th>\n",
              "      <th>Best_9</th>\n",
              "      <th>Best_10</th>\n",
              "      <th>Best_11</th>\n",
              "      <th>Best_12</th>\n",
              "      <th>Best_13</th>\n",
              "      <th>Best_14</th>\n",
              "      <th>Best_T</th>\n",
              "      <th>Date</th>\n",
              "    </tr>\n",
              "  </thead>\n",
              "  <tbody>\n",
              "    <tr>\n",
              "      <th>0</th>\n",
              "      <td>BDS00001</td>\n",
              "      <td>1</td>\n",
              "      <td>Open</td>\n",
              "      <td>Firm</td>\n",
              "      <td>33.000000</td>\n",
              "      <td>Young</td>\n",
              "      <td>F</td>\n",
              "      <td>157.5</td>\n",
              "      <td>54.2</td>\n",
              "      <td>21.849332</td>\n",
              "      <td>...</td>\n",
              "      <td>2</td>\n",
              "      <td>2</td>\n",
              "      <td>2</td>\n",
              "      <td>2</td>\n",
              "      <td>2</td>\n",
              "      <td>2</td>\n",
              "      <td>2</td>\n",
              "      <td>1</td>\n",
              "      <td>25</td>\n",
              "      <td>2015-10-08 08:30:00.000</td>\n",
              "    </tr>\n",
              "    <tr>\n",
              "      <th>1</th>\n",
              "      <td>BDS00002</td>\n",
              "      <td>1</td>\n",
              "      <td>Open</td>\n",
              "      <td>Firm</td>\n",
              "      <td>33.000000</td>\n",
              "      <td>Young</td>\n",
              "      <td>F</td>\n",
              "      <td>157.5</td>\n",
              "      <td>54.2</td>\n",
              "      <td>21.849332</td>\n",
              "      <td>...</td>\n",
              "      <td>2</td>\n",
              "      <td>2</td>\n",
              "      <td>2</td>\n",
              "      <td>2</td>\n",
              "      <td>2</td>\n",
              "      <td>2</td>\n",
              "      <td>2</td>\n",
              "      <td>1</td>\n",
              "      <td>25</td>\n",
              "      <td>2015-10-08 08:30:00.000</td>\n",
              "    </tr>\n",
              "    <tr>\n",
              "      <th>2</th>\n",
              "      <td>BDS00003</td>\n",
              "      <td>1</td>\n",
              "      <td>Open</td>\n",
              "      <td>Firm</td>\n",
              "      <td>33.000000</td>\n",
              "      <td>Young</td>\n",
              "      <td>F</td>\n",
              "      <td>157.5</td>\n",
              "      <td>54.2</td>\n",
              "      <td>21.849332</td>\n",
              "      <td>...</td>\n",
              "      <td>2</td>\n",
              "      <td>2</td>\n",
              "      <td>2</td>\n",
              "      <td>2</td>\n",
              "      <td>2</td>\n",
              "      <td>2</td>\n",
              "      <td>2</td>\n",
              "      <td>1</td>\n",
              "      <td>25</td>\n",
              "      <td>2015-10-08 08:30:00.000</td>\n",
              "    </tr>\n",
              "    <tr>\n",
              "      <th>3</th>\n",
              "      <td>BDS00004</td>\n",
              "      <td>1</td>\n",
              "      <td>Closed</td>\n",
              "      <td>Firm</td>\n",
              "      <td>33.000000</td>\n",
              "      <td>Young</td>\n",
              "      <td>F</td>\n",
              "      <td>157.5</td>\n",
              "      <td>54.2</td>\n",
              "      <td>21.849332</td>\n",
              "      <td>...</td>\n",
              "      <td>2</td>\n",
              "      <td>2</td>\n",
              "      <td>2</td>\n",
              "      <td>2</td>\n",
              "      <td>2</td>\n",
              "      <td>2</td>\n",
              "      <td>2</td>\n",
              "      <td>1</td>\n",
              "      <td>25</td>\n",
              "      <td>2015-10-08 08:30:00.000</td>\n",
              "    </tr>\n",
              "    <tr>\n",
              "      <th>4</th>\n",
              "      <td>BDS00005</td>\n",
              "      <td>1</td>\n",
              "      <td>Closed</td>\n",
              "      <td>Firm</td>\n",
              "      <td>33.000000</td>\n",
              "      <td>Young</td>\n",
              "      <td>F</td>\n",
              "      <td>157.5</td>\n",
              "      <td>54.2</td>\n",
              "      <td>21.849332</td>\n",
              "      <td>...</td>\n",
              "      <td>2</td>\n",
              "      <td>2</td>\n",
              "      <td>2</td>\n",
              "      <td>2</td>\n",
              "      <td>2</td>\n",
              "      <td>2</td>\n",
              "      <td>2</td>\n",
              "      <td>1</td>\n",
              "      <td>25</td>\n",
              "      <td>2015-10-08 08:30:00.000</td>\n",
              "    </tr>\n",
              "    <tr>\n",
              "      <th>...</th>\n",
              "      <td>...</td>\n",
              "      <td>...</td>\n",
              "      <td>...</td>\n",
              "      <td>...</td>\n",
              "      <td>...</td>\n",
              "      <td>...</td>\n",
              "      <td>...</td>\n",
              "      <td>...</td>\n",
              "      <td>...</td>\n",
              "      <td>...</td>\n",
              "      <td>...</td>\n",
              "      <td>...</td>\n",
              "      <td>...</td>\n",
              "      <td>...</td>\n",
              "      <td>...</td>\n",
              "      <td>...</td>\n",
              "      <td>...</td>\n",
              "      <td>...</td>\n",
              "      <td>...</td>\n",
              "      <td>...</td>\n",
              "      <td>...</td>\n",
              "    </tr>\n",
              "    <tr>\n",
              "      <th>1925</th>\n",
              "      <td>BDS01952</td>\n",
              "      <td>163</td>\n",
              "      <td>Open</td>\n",
              "      <td>Firm</td>\n",
              "      <td>25.416667</td>\n",
              "      <td>Young</td>\n",
              "      <td>M</td>\n",
              "      <td>172.0</td>\n",
              "      <td>74.6</td>\n",
              "      <td>25.216333</td>\n",
              "      <td>...</td>\n",
              "      <td>2</td>\n",
              "      <td>2</td>\n",
              "      <td>2</td>\n",
              "      <td>2</td>\n",
              "      <td>2</td>\n",
              "      <td>2</td>\n",
              "      <td>2</td>\n",
              "      <td>2</td>\n",
              "      <td>26</td>\n",
              "      <td>2016-03-11 10:49:57.538</td>\n",
              "    </tr>\n",
              "    <tr>\n",
              "      <th>1926</th>\n",
              "      <td>BDS01953</td>\n",
              "      <td>163</td>\n",
              "      <td>Open</td>\n",
              "      <td>Firm</td>\n",
              "      <td>25.416667</td>\n",
              "      <td>Young</td>\n",
              "      <td>M</td>\n",
              "      <td>172.0</td>\n",
              "      <td>74.6</td>\n",
              "      <td>25.216333</td>\n",
              "      <td>...</td>\n",
              "      <td>2</td>\n",
              "      <td>2</td>\n",
              "      <td>2</td>\n",
              "      <td>2</td>\n",
              "      <td>2</td>\n",
              "      <td>2</td>\n",
              "      <td>2</td>\n",
              "      <td>2</td>\n",
              "      <td>26</td>\n",
              "      <td>2016-03-11 10:49:57.538</td>\n",
              "    </tr>\n",
              "    <tr>\n",
              "      <th>1927</th>\n",
              "      <td>BDS01954</td>\n",
              "      <td>163</td>\n",
              "      <td>Closed</td>\n",
              "      <td>Foam</td>\n",
              "      <td>25.416667</td>\n",
              "      <td>Young</td>\n",
              "      <td>M</td>\n",
              "      <td>172.0</td>\n",
              "      <td>74.6</td>\n",
              "      <td>25.216333</td>\n",
              "      <td>...</td>\n",
              "      <td>2</td>\n",
              "      <td>2</td>\n",
              "      <td>2</td>\n",
              "      <td>2</td>\n",
              "      <td>2</td>\n",
              "      <td>2</td>\n",
              "      <td>2</td>\n",
              "      <td>2</td>\n",
              "      <td>26</td>\n",
              "      <td>2016-03-11 10:49:57.538</td>\n",
              "    </tr>\n",
              "    <tr>\n",
              "      <th>1928</th>\n",
              "      <td>BDS01955</td>\n",
              "      <td>163</td>\n",
              "      <td>Closed</td>\n",
              "      <td>Foam</td>\n",
              "      <td>25.416667</td>\n",
              "      <td>Young</td>\n",
              "      <td>M</td>\n",
              "      <td>172.0</td>\n",
              "      <td>74.6</td>\n",
              "      <td>25.216333</td>\n",
              "      <td>...</td>\n",
              "      <td>2</td>\n",
              "      <td>2</td>\n",
              "      <td>2</td>\n",
              "      <td>2</td>\n",
              "      <td>2</td>\n",
              "      <td>2</td>\n",
              "      <td>2</td>\n",
              "      <td>2</td>\n",
              "      <td>26</td>\n",
              "      <td>2016-03-11 10:49:57.538</td>\n",
              "    </tr>\n",
              "    <tr>\n",
              "      <th>1929</th>\n",
              "      <td>BDS01956</td>\n",
              "      <td>163</td>\n",
              "      <td>Closed</td>\n",
              "      <td>Foam</td>\n",
              "      <td>25.416667</td>\n",
              "      <td>Young</td>\n",
              "      <td>M</td>\n",
              "      <td>172.0</td>\n",
              "      <td>74.6</td>\n",
              "      <td>25.216333</td>\n",
              "      <td>...</td>\n",
              "      <td>2</td>\n",
              "      <td>2</td>\n",
              "      <td>2</td>\n",
              "      <td>2</td>\n",
              "      <td>2</td>\n",
              "      <td>2</td>\n",
              "      <td>2</td>\n",
              "      <td>2</td>\n",
              "      <td>26</td>\n",
              "      <td>2016-03-11 10:49:57.538</td>\n",
              "    </tr>\n",
              "  </tbody>\n",
              "</table>\n",
              "<p>1930 rows × 64 columns</p>\n",
              "</div>\n",
              "      <button class=\"colab-df-convert\" onclick=\"convertToInteractive('df-3c2f710c-a673-47be-a7ce-6dc58ce40f98')\"\n",
              "              title=\"Convert this dataframe to an interactive table.\"\n",
              "              style=\"display:none;\">\n",
              "        \n",
              "  <svg xmlns=\"http://www.w3.org/2000/svg\" height=\"24px\"viewBox=\"0 0 24 24\"\n",
              "       width=\"24px\">\n",
              "    <path d=\"M0 0h24v24H0V0z\" fill=\"none\"/>\n",
              "    <path d=\"M18.56 5.44l.94 2.06.94-2.06 2.06-.94-2.06-.94-.94-2.06-.94 2.06-2.06.94zm-11 1L8.5 8.5l.94-2.06 2.06-.94-2.06-.94L8.5 2.5l-.94 2.06-2.06.94zm10 10l.94 2.06.94-2.06 2.06-.94-2.06-.94-.94-2.06-.94 2.06-2.06.94z\"/><path d=\"M17.41 7.96l-1.37-1.37c-.4-.4-.92-.59-1.43-.59-.52 0-1.04.2-1.43.59L10.3 9.45l-7.72 7.72c-.78.78-.78 2.05 0 2.83L4 21.41c.39.39.9.59 1.41.59.51 0 1.02-.2 1.41-.59l7.78-7.78 2.81-2.81c.8-.78.8-2.07 0-2.86zM5.41 20L4 18.59l7.72-7.72 1.47 1.35L5.41 20z\"/>\n",
              "  </svg>\n",
              "      </button>\n",
              "      \n",
              "  <style>\n",
              "    .colab-df-container {\n",
              "      display:flex;\n",
              "      flex-wrap:wrap;\n",
              "      gap: 12px;\n",
              "    }\n",
              "\n",
              "    .colab-df-convert {\n",
              "      background-color: #E8F0FE;\n",
              "      border: none;\n",
              "      border-radius: 50%;\n",
              "      cursor: pointer;\n",
              "      display: none;\n",
              "      fill: #1967D2;\n",
              "      height: 32px;\n",
              "      padding: 0 0 0 0;\n",
              "      width: 32px;\n",
              "    }\n",
              "\n",
              "    .colab-df-convert:hover {\n",
              "      background-color: #E2EBFA;\n",
              "      box-shadow: 0px 1px 2px rgba(60, 64, 67, 0.3), 0px 1px 3px 1px rgba(60, 64, 67, 0.15);\n",
              "      fill: #174EA6;\n",
              "    }\n",
              "\n",
              "    [theme=dark] .colab-df-convert {\n",
              "      background-color: #3B4455;\n",
              "      fill: #D2E3FC;\n",
              "    }\n",
              "\n",
              "    [theme=dark] .colab-df-convert:hover {\n",
              "      background-color: #434B5C;\n",
              "      box-shadow: 0px 1px 3px 1px rgba(0, 0, 0, 0.15);\n",
              "      filter: drop-shadow(0px 1px 2px rgba(0, 0, 0, 0.3));\n",
              "      fill: #FFFFFF;\n",
              "    }\n",
              "  </style>\n",
              "\n",
              "      <script>\n",
              "        const buttonEl =\n",
              "          document.querySelector('#df-3c2f710c-a673-47be-a7ce-6dc58ce40f98 button.colab-df-convert');\n",
              "        buttonEl.style.display =\n",
              "          google.colab.kernel.accessAllowed ? 'block' : 'none';\n",
              "\n",
              "        async function convertToInteractive(key) {\n",
              "          const element = document.querySelector('#df-3c2f710c-a673-47be-a7ce-6dc58ce40f98');\n",
              "          const dataTable =\n",
              "            await google.colab.kernel.invokeFunction('convertToInteractive',\n",
              "                                                     [key], {});\n",
              "          if (!dataTable) return;\n",
              "\n",
              "          const docLinkHtml = 'Like what you see? Visit the ' +\n",
              "            '<a target=\"_blank\" href=https://colab.research.google.com/notebooks/data_table.ipynb>data table notebook</a>'\n",
              "            + ' to learn more about interactive tables.';\n",
              "          element.innerHTML = '';\n",
              "          dataTable['output_type'] = 'display_data';\n",
              "          await google.colab.output.renderOutput(dataTable, element);\n",
              "          const docLink = document.createElement('div');\n",
              "          docLink.innerHTML = docLinkHtml;\n",
              "          element.appendChild(docLink);\n",
              "        }\n",
              "      </script>\n",
              "    </div>\n",
              "  </div>\n",
              "  "
            ]
          },
          "metadata": {},
          "execution_count": 10
        }
      ]
    },
    {
      "cell_type": "code",
      "source": [
        "x = info_postura['Age']\n",
        "y= info_postura['Height']\n",
        "m = np.sum((x - np.mean(x)) * (y-np.mean(y))) / np.sum((x - np.mean(x))**2)\n",
        "b = np.mean(y) - m*np.mean(x)\n",
        "print(m , b)"
      ],
      "metadata": {
        "colab": {
          "base_uri": "https://localhost:8080/"
        },
        "id": "E-jCpgIFpVUu",
        "outputId": "41dfac7f-2fc3-451b-dcaa-4298bfd71534"
      },
      "execution_count": 14,
      "outputs": [
        {
          "output_type": "stream",
          "name": "stdout",
          "text": [
            "0.1151612344184846 4.278276425427784\n"
          ]
        }
      ]
    },
    {
      "cell_type": "code",
      "source": [
        "plt.figure()\n",
        "plt.plot(info_postura['Age'],\n",
        "         info_postura['Height'], 'o')\n",
        "plt.plot(x, m* x + b, 'r')\n",
        "plt.show()"
      ],
      "metadata": {
        "colab": {
          "base_uri": "https://localhost:8080/",
          "height": 265
        },
        "id": "FKrJWYpip3fN",
        "outputId": "e03916af-538b-4056-8aa7-b4db530b44ec"
      },
      "execution_count": 15,
      "outputs": [
        {
          "output_type": "display_data",
          "data": {
            "text/plain": [
              "<Figure size 432x288 with 1 Axes>"
            ],
            "image/png": "[encoded data removed]"
          },
          "metadata": {
            "needs_background": "light"
          }
        }
      ]
    },
    {
      "cell_type": "code",
      "source": [
        "np.polyfit(info_postura['Age'],\n",
        "           info_postura['Height'], deg = 1)"
      ],
      "metadata": {
        "colab": {
          "base_uri": "https://localhost:8080/"
        },
        "id": "yqaLqQ1yqsXG",
        "outputId": "364d193f-3398-41ac-e715-92f9e36b084d"
      },
      "execution_count": 19,
      "outputs": [
        {
          "output_type": "execute_result",
          "data": {
            "text/plain": [
              "array([ -0.22865345, 173.27820697])"
            ]
          },
          "metadata": {},
          "execution_count": 19
        }
      ]
    },
    {
      "cell_type": "code",
      "source": [
        "plt.figure()\n",
        "plt.plot(info_postura['Age'], info_postura['Ystudy'], \n",
        "         marker='o', color='red', linestyle='')\n",
        "plt.xlabel('Idade (anos)')\n",
        "plt.ylabel('anos de estudo (anos)')\n",
        "plt.show()"
      ],
      "metadata": {
        "colab": {
          "base_uri": "https://localhost:8080/",
          "height": 279
        },
        "id": "kPPId8PNrWlu",
        "outputId": "bae13d47-d010-4832-aacf-5f0ed24bd0d8"
      },
      "execution_count": 20,
      "outputs": [
        {
          "output_type": "display_data",
          "data": {
            "text/plain": [
              "<Figure size 432x288 with 1 Axes>"
            ],
            "image/png": "[encoded data removed]"
          },
          "metadata": {
            "needs_background": "light"
          }
        }
      ]
    },
    {
      "cell_type": "code",
      "source": [
        "coef = np.polyfit(info_postura['Age'],\n",
        "           info_postura['Ystudy'], deg = 56)"
      ],
      "metadata": {
        "colab": {
          "base_uri": "https://localhost:8080/"
        },
        "id": "PYWyNXZrs7n3",
        "outputId": "ff2fc2ee-20d5-4091-b1d6-4df022f2d764"
      },
      "execution_count": 33,
      "outputs": [
        {
          "output_type": "stream",
          "name": "stderr",
          "text": [
            "/usr/local/lib/python3.7/dist-packages/IPython/core/interactiveshell.py:3326: RankWarning: Polyfit may be poorly conditioned\n",
            "  exec(code_obj, self.user_global_ns, self.user_ns)\n"
          ]
        }
      ]
    },
    {
      "cell_type": "code",
      "source": [
        "np.polyval(coef, info_postura['Age'] )"
      ],
      "metadata": {
        "colab": {
          "base_uri": "https://localhost:8080/"
        },
        "id": "IHnsNgUwtNGA",
        "outputId": "827b6248-5706-4ae2-a215-68d147de2dd9"
      },
      "execution_count": 34,
      "outputs": [
        {
          "output_type": "execute_result",
          "data": {
            "text/plain": [
              "array([17.41137089, 17.41137089, 17.41137089, ..., 16.74642108,\n",
              "       16.74642108, 16.74642108])"
            ]
          },
          "metadata": {},
          "execution_count": 34
        }
      ]
    },
    {
      "cell_type": "code",
      "source": [
        "plt.figure()\n",
        "plt.plot(info_postura['Age'], info_postura['Ystudy'], \n",
        "         marker='o', color='red', linestyle='')\n",
        "plt.plot(info_postura['Age'].sort_values(),np.polyval(coef, info_postura['Age'].sort_values()), \n",
        "         )\n",
        "plt.xlabel('Idade (anos)')\n",
        "plt.ylabel('anos de estudo (anos)')\n",
        "plt.show()"
      ],
      "metadata": {
        "colab": {
          "base_uri": "https://localhost:8080/",
          "height": 279
        },
        "id": "A74BCnHXtx1L",
        "outputId": "6531815f-63ae-4c6b-9750-8e2bfac881e9"
      },
      "execution_count": 35,
      "outputs": [
        {
          "output_type": "display_data",
          "data": {
            "text/plain": [
              "<Figure size 432x288 with 1 Axes>"
            ],
            "image/png": "[encoded data removed]"
          },
          "metadata": {
            "needs_background": "light"
          }
        }
      ]
    },
    {
      "cell_type": "code",
      "source": [
        "info_postura['Age'].corr(info_postura['Ystudy'])"
      ],
      "metadata": {
        "colab": {
          "base_uri": "https://localhost:8080/"
        },
        "id": "R-TfZZHyt8YD",
        "outputId": "bba2f257-3f80-449c-e8f0-c605062f2e96"
      },
      "execution_count": 37,
      "outputs": [
        {
          "output_type": "execute_result",
          "data": {
            "text/plain": [
              "-0.6277831604442686"
            ]
          },
          "metadata": {},
          "execution_count": 37
        }
      ]
    },
    {
      "cell_type": "code",
      "source": [
        "info_postura['Height'].corr(info_postura['FootLen'])"
      ],
      "metadata": {
        "colab": {
          "base_uri": "https://localhost:8080/"
        },
        "id": "tdfYQXXNwjut",
        "outputId": "dcac03bd-91ab-4279-ab0b-bb362fe35227"
      },
      "execution_count": 38,
      "outputs": [
        {
          "output_type": "execute_result",
          "data": {
            "text/plain": [
              "0.7804768664554964"
            ]
          },
          "metadata": {},
          "execution_count": 38
        }
      ]
    },
    {
      "cell_type": "code",
      "source": [
        "info_postura['Age'].corr(info_postura['Weight'])"
      ],
      "metadata": {
        "colab": {
          "base_uri": "https://localhost:8080/"
        },
        "id": "MG9MQeSXwq_z",
        "outputId": "dd203a15-39e1-4996-e3fa-abf835b68468"
      },
      "execution_count": 40,
      "outputs": [
        {
          "output_type": "execute_result",
          "data": {
            "text/plain": [
              "0.06615778719007803"
            ]
          },
          "metadata": {},
          "execution_count": 40
        }
      ]
    },
    {
      "cell_type": "code",
      "source": [],
      "metadata": {
        "id": "_Uan3tIdw8TK"
      },
      "execution_count": null,
      "outputs": []
    },
    {
      "cell_type": "code",
      "source": [],
      "metadata": {
        "id": "NkSRelsh0wAr"
      },
      "execution_count": null,
      "outputs": []
    }
  ]
}